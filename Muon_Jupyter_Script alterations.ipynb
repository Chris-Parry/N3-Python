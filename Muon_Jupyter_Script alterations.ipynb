{
 "cells": [
  {
   "cell_type": "code",
   "execution_count": 1,
   "metadata": {
    "pycharm": {
     "name": "#%%\n"
    }
   },
   "outputs": [],
   "source": [
    "Filename=\"sifted22-10-18-16-52.data\"  # change the name of the file here"
   ]
  },
  {
   "cell_type": "code",
   "execution_count": 2,
   "metadata": {
    "pycharm": {
     "name": "#%%\n"
    }
   },
   "outputs": [
    {
     "data": {
      "text/plain": [
       "0"
      ]
     },
     "execution_count": 2,
     "metadata": {},
     "output_type": "execute_result"
    }
   ],
   "source": [
    "import numpy as np\n",
    "import matplotlib as plt\n",
    "from scipy.optimize import curve_fit\n",
    "\n",
    "raw_data = open(Filename,'r')              # Open the data file again\n",
    "\n",
    "lines=0\n",
    "\n",
    "# Read the data: count the number of lines\n",
    "\n",
    "for line in raw_data:\n",
    "    lines=lines+1\n",
    "\n",
    "timelist=np.zeros(lines)                   # Create empty arrays for the data\n",
    "\n",
    "raw_data.seek(0)"
   ]
  },
  {
   "cell_type": "code",
   "execution_count": 5,
   "metadata": {},
   "outputs": [
    {
     "ename": "IndexError",
     "evalue": "index 7080 is out of bounds for axis 0 with size 4814",
     "output_type": "error",
     "traceback": [
      "\u001b[0;31m---------------------------------------------------------------------------\u001b[0m",
      "\u001b[0;31mIndexError\u001b[0m                                Traceback (most recent call last)",
      "\u001b[1;32m/Users/csp/Library/Mobile Documents/com~apple~CloudDocs/Stage 3/Advanced Experimental Laboratory/N3MuonLifetimes/N3 Python/Muon_Jupyter_Script copy.ipynb Cell 3\u001b[0m in \u001b[0;36m<cell line: 2>\u001b[0;34m()\u001b[0m\n\u001b[1;32m      <a href='vscode-notebook-cell:/Users/csp/Library/Mobile%20Documents/com~apple~CloudDocs/Stage%203/Advanced%20Experimental%20Laboratory/N3MuonLifetimes/N3%20Python/Muon_Jupyter_Script%20copy.ipynb#W3sZmlsZQ%3D%3D?line=2'>3</a>\u001b[0m     row \u001b[39m=\u001b[39m data_line\u001b[39m.\u001b[39mstrip()\n\u001b[1;32m      <a href='vscode-notebook-cell:/Users/csp/Library/Mobile%20Documents/com~apple~CloudDocs/Stage%203/Advanced%20Experimental%20Laboratory/N3MuonLifetimes/N3%20Python/Muon_Jupyter_Script%20copy.ipynb#W3sZmlsZQ%3D%3D?line=3'>4</a>\u001b[0m     row \u001b[39m=\u001b[39m row\u001b[39m.\u001b[39msplit()\n\u001b[0;32m----> <a href='vscode-notebook-cell:/Users/csp/Library/Mobile%20Documents/com~apple~CloudDocs/Stage%203/Advanced%20Experimental%20Laboratory/N3MuonLifetimes/N3%20Python/Muon_Jupyter_Script%20copy.ipynb#W3sZmlsZQ%3D%3D?line=4'>5</a>\u001b[0m     timelist[\u001b[39mint\u001b[39m(row[\u001b[39m0\u001b[39m])]\u001b[39m=\u001b[39m\u001b[39mfloat\u001b[39m(row[\u001b[39m1\u001b[39m])\n\u001b[1;32m      <a href='vscode-notebook-cell:/Users/csp/Library/Mobile%20Documents/com~apple~CloudDocs/Stage%203/Advanced%20Experimental%20Laboratory/N3MuonLifetimes/N3%20Python/Muon_Jupyter_Script%20copy.ipynb#W3sZmlsZQ%3D%3D?line=5'>6</a>\u001b[0m \u001b[39mprint\u001b[39m(\u001b[39m\"\u001b[39m\u001b[39m\\n\u001b[39;00m\u001b[39m\"\u001b[39m,lines,\u001b[39m\"\u001b[39m\u001b[39mrows of data successfully stored into array\u001b[39m\u001b[39m\"\u001b[39m)\n\u001b[1;32m     <a href='vscode-notebook-cell:/Users/csp/Library/Mobile%20Documents/com~apple~CloudDocs/Stage%203/Advanced%20Experimental%20Laboratory/N3MuonLifetimes/N3%20Python/Muon_Jupyter_Script%20copy.ipynb#W3sZmlsZQ%3D%3D?line=10'>11</a>\u001b[0m \u001b[39m# converts to a histogram with X (first number) bins in the range (Y,Z) microseconds \u001b[39;00m\n",
      "\u001b[0;31mIndexError\u001b[0m: index 7080 is out of bounds for axis 0 with size 4814"
     ]
    }
   ],
   "source": [
    "# Read the data: fill the arrays\n",
    "for data_line in raw_data:\n",
    "    row = data_line.strip()\n",
    "    row = row.split()\n",
    "    timelist\n",
    "print(\"\\n\",lines,\"rows of data successfully stored into array\")\n",
    "    \n",
    "\n",
    "\n",
    "\n",
    "# converts to a histogram with X (first number) bins in the range (Y,Z) microseconds \n",
    "y,edges=np.histogram(times,20,range=(0,20))\n",
    "\n",
    "if min(y)==0: print(\"TOO MANY BINS, one of the bins has zero counts!!\")\n",
    "\n",
    "# converts the bin \"edges\" in x values that correspond to the centre of the bin\n",
    "x=edges[:-1].copy()\n",
    "binwidth=(x[1]-x[0])\n",
    "x+=binwidth/2\n",
    "\n",
    "# y and x are now arrays of the histogram values (y) and times in us (x). This cano now be plotted. \n",
    "\n",
    "# The errors in y and x are the square root of the numver of counts and half the bin width. \n",
    "\n",
    "xerror=np.zeros(len(x))\n",
    "xerror.fill(binwidth/2)\n",
    "yerror=np.sqrt(y)\n",
    "\n",
    "# The arrays x and y and their errors can now be plotted using matplotlib and fitted with a curve. \n",
    "# See the Jupyter_Plot_Curve_Fit.ipynb script, for examples on how to fit curves and plot data"
   ]
  }
 ],
 "metadata": {
  "kernelspec": {
   "display_name": "Python 3.9.12 ('base')",
   "language": "python",
   "name": "python3"
  },
  "language_info": {
   "codemirror_mode": {
    "name": "ipython",
    "version": 3
   },
   "file_extension": ".py",
   "mimetype": "text/x-python",
   "name": "python",
   "nbconvert_exporter": "python",
   "pygments_lexer": "ipython3",
   "version": "3.9.13"
  },
  "vscode": {
   "interpreter": {
    "hash": "0c45938f1dc67d7c6695e11ecb27dc31df725217f5b78cf7ec783316e623ea73"
   }
  }
 },
 "nbformat": 4,
 "nbformat_minor": 4
}
