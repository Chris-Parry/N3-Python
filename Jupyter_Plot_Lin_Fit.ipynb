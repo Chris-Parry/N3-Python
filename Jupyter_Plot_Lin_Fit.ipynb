{
 "cells": [
  {
   "cell_type": "markdown",
   "metadata": {},
   "source": [
    "# Python Notebook: <u> Graph Plotting and Linear Fitting for Experimental Lab\n",
    "# University of York, Department of Physics\n",
    "\n",
    "This python notebook reads x-y data, with errors if used, from a data file and plots a graph. If required, a linear least-squares fit is perfomed to determine the gradient and intercept with errors.\n",
    "\n",
    "<i> Version 1.1, November 3rd 2020. This notebook was written by Mike Bentley, University of York. Feel free to copy, use and adapt for your own purposes. Any suggestions for improvement to michael.bentley@york.ac.uk. [Thanks to Sachin Mysorekar for testing and useful additions] \n",
    "\n",
    "This version has been updated to include the option of using a comma-separated (i.e. .csv) data file. </i>  \n",
    "\n",
    "Instructions:\n",
    "\n",
    "Part 1: (User preferences and options)\n",
    "    1. Enter file name containing data\n",
    "    2. Enter User preferences (see comments for instructions)\n",
    "Part 2: (code)\n",
    "    3. Run the \"Check Data File\" section to check that all the data is read in properly\n",
    "    4. Run the rest of the cells in the notebook\n",
    "Part 3: (Graph)\n",
    "    5. Modify the options in the final cell for secific graph options\n",
    "\n",
    "# Part 1:  User data and preferences\n",
    "\n",
    "## Enter name of file containing data\n",
    "\n",
    "Data file needs to be in the same directory as this notebook. Otherwise, put in the full path.\n",
    "\n",
    "Data file should be a plain text file with data in columns and no other entries. The separator between data points can be spaces, tabs or commas. If saving data from Excel, Origin, etc, save as \"Tab delimited\" (.txt) file or a Comma separated (i.e. .csv) file. \n",
    "    \n",
    "The data file can have as many columns as you like. In the cell below you will specify which columns contain the required parameters."
   ]
  },
  {
   "cell_type": "code",
   "execution_count": 1,
   "metadata": {},
   "outputs": [],
   "source": [
    "Filename=\"data_fitting_test.txt\""
   ]
  },
  {
   "cell_type": "markdown",
   "metadata": {},
   "source": [
    "## Enter user preferences \n",
    "\n",
    "Here you need to specify the columns, and other preferences"
   ]
  },
  {
   "cell_type": "code",
   "execution_count": 2,
   "metadata": {},
   "outputs": [],
   "source": [
    "xcolumn = 1                   # Specify the column containing the x data points \n",
    "ycolumn = 2                   # Specify the column containing the y data points \n",
    "include_x_errors = False      # Enter True or False only (True if x errors needed on plot)\n",
    "include_y_errors = True       # Enter True or False only (True if y errors needed on plot)\n",
    "xerrcolumn = 3                # Specify the column containing the x errors \n",
    "yerrcolumn = 4                # Specify the column containing the y errors \n",
    "fit_line = True               # Enter True or False only (True if line of best fit needed)\n",
    "header = True                 # Does your data file contain one of more header lines (e.g. column titles)\n",
    "head_lines = 1                # Enter the number of header lines in your data file\n",
    "save_graph = True             # Enter True or False only (True if you wish to save the figure)\n",
    "CSV=False                     # Is the data separated by commas (True if yes - e.g. a .csv file)"
   ]
  },
  {
   "cell_type": "markdown",
   "metadata": {},
   "source": [
    "Specify the name of the file if you wish to save the graph. (It will be saved in the same directory as this notebook). The format of the file is determined by the file extension, e.g. $\\texttt{.jpg, .pdf, .png}$"
   ]
  },
  {
   "cell_type": "code",
   "execution_count": 3,
   "metadata": {},
   "outputs": [],
   "source": [
    "fig_file=\"figure.png\""
   ]
  },
  {
   "cell_type": "markdown",
   "metadata": {},
   "source": [
    "## Check data file \n",
    "\n",
    "This script will check the data file, count the number of data points, make sure that there are no anomalies, check for blank lines, and print out the first and last line of the data file for you to check."
   ]
  },
  {
   "cell_type": "code",
   "execution_count": 4,
   "metadata": {},
   "outputs": [
    {
     "name": "stdout",
     "output_type": "stream",
     "text": [
      "\n",
      " 10 rows of data, in 4 columns, found in file\n",
      " 0 blank lines found in file, and 1 lines of headers skipped\n",
      "\n",
      " First data row: 2.1\t24.9\t0.042\t5\n",
      " Last data row: 20.5\t95\t0.41\t5\n"
     ]
    }
   ],
   "source": [
    "raw_data = open(Filename,'r')          # Open the data file for input\n",
    "\n",
    "lines=0                                # This counts the number of data lines that have been read\n",
    "first=True                             # A flag is set for the first non-blank line found\n",
    "warning=False                          # A warning flag for a unexpected number of data points in a row \n",
    "blank_lines=0                          # This counts the number of blank lines found\n",
    "\n",
    "# Skip any header lines\n",
    "if header:                             # Are there any header rows?\n",
    "    for i in range(head_lines):\n",
    "        next(raw_data)                 # Skip each header row\n",
    "\n",
    "# Now we loop through every line in the file\n",
    "\n",
    "for data_line in raw_data:             # loops through the file, one line at a time\n",
    "        row = data_line.strip()    # \"row\" is now a string variable contains the text of that line\n",
    "        \n",
    "# check for blank lines\n",
    "        if row == \"\":                  # is it blank?\n",
    "            blank_lines=blank_lines+1  # counts the number of blank lines\n",
    "            continue                   # skip straight to the next line (i.e. the next step of the loop)\n",
    "        elif CSV and row.strip(',')==\"\": # is it just commas?\n",
    "            blank_lines=blank_lines+1  # counts the number of blank lines\n",
    "            continue                   # skip straight to the next line (i.e. the next step of the loop)\n",
    "\n",
    "# for a non-blank line, split the line into columns\n",
    "        lines = lines + 1              # counts the number of lines of data\n",
    "        if CSV:                        # is it a CSV?\n",
    "            data = row.split(',')      # split line into data points (\"data\" is now a list of strings)\n",
    "        else:                          # it's not a CSV\n",
    "            data = row.split()         # split line into data points (\"data\" is now a list of strings)\n",
    "        num_values = len(data)         # counts the number of data points in the line\n",
    "        \n",
    "# Checks the number of data points is the same as in the last line\n",
    "\n",
    "        if first:                      # Is it the first line? (no check possible)\n",
    "            first=False                # Resets the flag\n",
    "            first_row = row            # Stores the first row of data\n",
    "        elif num_values != num_last:   # checks if number of data points is different from last row\n",
    "            warning=True               # Sets a warning flag\n",
    "        num_last = num_values          # Stores current number of data points for the next comparison\n",
    "        last_row = row                 # Stores the most recent (i.e. last) row of data\n",
    "\n",
    "# Now we have finished reading the file\n",
    "\n",
    "raw_data.close()                       # Close the data file\n",
    "\n",
    "# Tell the user what we have found\n",
    "if warning:\n",
    "    print(\"\\n \\n WARNING \\n WARNING - COLUMNS do not have the same number of data points \\n WARNING\\n\")\n",
    "print(\"\\n\",lines,\"rows of data, in\",num_last,\"columns, found in file\")\n",
    "print(\"\",blank_lines,\"blank lines found in file, and\",head_lines,\"lines of headers skipped\") \n",
    "print(\"\\n First data row:\",first_row)\n",
    "print(\" Last data row:\",last_row)"
   ]
  },
  {
   "cell_type": "markdown",
   "metadata": {},
   "source": [
    "# Part 2: Code (run, but don't modify)\n",
    "\n",
    "Now run all the cells below to read the data file into arrays, perform the fits and plot the graph\n",
    "\n",
    "## Read data file"
   ]
  },
  {
   "cell_type": "code",
   "execution_count": 5,
   "metadata": {
    "scrolled": true
   },
   "outputs": [
    {
     "name": "stdout",
     "output_type": "stream",
     "text": [
      "\n",
      " 10 rows of data successfully stored in arrays\n"
     ]
    }
   ],
   "source": [
    "# Import the libraries\n",
    "import numpy as np\n",
    "import matplotlib.pyplot as plt\n",
    "\n",
    "raw_data = open(Filename,'r')              # Open the data file again\n",
    "\n",
    "# Skip any header lines\n",
    "if header:                                 # Are there any header rows?\n",
    "    for i in range(head_lines):\n",
    "        next(raw_data)                     # Skip each header row\n",
    "\n",
    "# Set up the arrays for storing data:\n",
    "x_data = np.zeros(lines)        # Defines array for the x data points, and sets each of the elements to zero\n",
    "y_data = np.zeros(lines)        # Defines array for the y data points, and sets each of the elements to zero\n",
    "x_err = np.zeros(lines)         # Defines array for the x error bars, and sets each of the elements to zero\n",
    "y_err = np.zeros(lines)         # Defines array for the y error bars, and sets each of the elements to zero\n",
    "\n",
    "# Read the data:\n",
    "i=0\n",
    "for data_line in raw_data:                        # loops through the file, one line at a time\n",
    "        row = data_line.strip()                   # row is a string variable contains the text of that line\n",
    "        if row == \"\":                             # skip any blank lines\n",
    "            continue\n",
    "        elif CSV and row.strip(',')==\"\":          # is it just commas?\n",
    "            continue                              # skip straight to the next line (i.e. the next step of the loop)\n",
    "        else:\n",
    "            if CSV:\n",
    "                data = row.split(',')             # split line into data points (\"data\" is now a list of strings)\n",
    "            else:\n",
    "                data = row.split()                # split line into data points (\"data\" is now a list of strings)\n",
    "        x_data[i] = float(data[xcolumn-1])        # put the x data point, from the right column, in the x array\n",
    "        y_data[i] = float(data[ycolumn-1])        # put the y data point, from the right column, in the y array\n",
    "        if include_x_errors:\n",
    "            x_err[i] = float(data[xerrcolumn-1])  # put the x error bar in the x error array, if used\n",
    "        if include_y_errors:\n",
    "            y_err[i] = float(data[yerrcolumn-1])  # put the y error bar in the y error array, if used\n",
    "        i=i+1                                     # counts the number of data lines read\n",
    "print(\"\\n\",i,\"rows of data successfully stored in arrays\") \n",
    "raw_data.close()"
   ]
  },
  {
   "cell_type": "markdown",
   "metadata": {},
   "source": [
    "## Perform the linear fit"
   ]
  },
  {
   "cell_type": "code",
   "execution_count": 6,
   "metadata": {},
   "outputs": [],
   "source": [
    "# Performs a fit calling the numpy polyfit function (polynomial order 1):\n",
    "\n",
    "# If y errors are included, they will be used as weights in the fit calculation:\n",
    "\n",
    "if include_y_errors:                                           # Are y errors are included?\n",
    "    weights=1/y_err                                            # fit \"weights\" are the inverse of the y errors\n",
    "    para,covar=np.polyfit(x_data,y_data,1,w=weights,cov=True)  # Performs a \"weighted\" fit\n",
    "else:\n",
    "    para,covar=np.polyfit(x_data,y_data,1,cov=True)            # Performs an \"unweighted\" fit\n",
    "\n",
    "# Extract the parameters from the fit:\n",
    "\n",
    "errors=np.sqrt(np.diag(covar))                  # Creates a list called \"errors\" from the covariance matrix\n",
    "grad = para[0]                                  # gradient is the first entry in the \"para\" list\n",
    "grad_error = errors[0]                          # error on gradient is the first entry in the \"errors\" list\n",
    "inter = para[1]                                 # intercept is the second entry in the \"para\" list\n",
    "inter_error = errors[1]                         # error on intercept is the second entry in the \"errors\" list\n",
    "\n",
    "\n",
    "x_fit=[min(x_data),max(x_data)]\n",
    "y_fit=[grad*min(x_data)+inter,grad*max(x_data)+inter]"
   ]
  },
  {
   "cell_type": "markdown",
   "metadata": {},
   "source": [
    "# Part 3: Plotting the graph (edit this part)\n",
    "\n",
    "There are several options for plotting that you can modify. Some are commented out with a $\\#$. Remove the $\\#$ to activate them.\n",
    " - $\\texttt{x}\\_\\texttt{lim( )}$, $\\texttt{y}\\_\\texttt{lim( )}$ set the axis ranges\n",
    " - $\\texttt{x}\\_\\texttt{ticks( )}$, $\\texttt{y}\\_\\texttt{ticks( )}$ set the properties of the x and y labels. You can also use these functions to specify custom tick points and custom labels. For example, $\\texttt{x}\\_\\texttt{ticks((2,4,6,8),fontsize=12)}$ will put four labels at x = 2,4,6 and 8 with fontisize 12.\n",
    " - $\\texttt{text( )}$ puts some text on the plot. Note the co-ordinates of the text are in the data co-ordinate system, so the position has the same units as x and y.  \n",
    " - Wherever there is text on the graph i.e. $\\texttt{title( ), text( ), xticks( ), xlabel( )}$ etc, you can modify the text properties using a number of arguments. e.g. $\\texttt{fontsize =} $ (e.g. 10), $\\texttt{color = }$ (e.g. 'black'), $\\texttt{fontsyle =}$ (e.g. 'normal' or 'italic'), $\\texttt{weight =}$ (e.g. 'normal' or 'bold' etc). You can also change the font using $\\texttt{fontfamily =} $ ('arial', or 'calibri', or 'times new roman' etc)\n",
    " - To insert special symbols, superscripts, etc, you can use the LaTeX maths environment by putting commands within dollar signs $\\$$ $\\$$. Examples include $\\texttt{x}\\$\\texttt{^{-2}}\\$ $ for x$^{-2}$, $\\$\\texttt{\\pm}\\$ $ for $\\pm$, $\\$\\texttt{\\sigma}\\$ $ for $\\sigma$, etc. \n",
    " - You can find many many other tricks to format your graph on the [matplotlib.pyplot web page]\n",
    "(https://matplotlib.org/3.1.1/api/pyplot_summary.html) "
   ]
  },
  {
   "cell_type": "code",
   "execution_count": 7,
   "metadata": {},
   "outputs": [
    {
     "data": {
      "image/png": "[encoded data removed]",
      "text/plain": [
       "<Figure size 900x600 with 1 Axes>"
      ]
     },
     "metadata": {
      "needs_background": "light"
     },
     "output_type": "display_data"
    },
    {
     "name": "stdout",
     "output_type": "stream",
     "text": [
      "\n",
      "Fit Results:\n",
      "\n",
      "Gradient: 3.4634064603268477 +/- 0.38434029280327486\n",
      "Intercept: 21.967409192116396 +/- 4.957855703154267\n"
     ]
    }
   ],
   "source": [
    "plt.rcParams['figure.dpi'] = 150   # Controls the size and resolution of the figures as displayed in Jupyter\n",
    "\n",
    "plt.errorbar(x_data,y_data,yerr=y_err,xerr=x_err,fmt='s',color='black',markersize=4,elinewidth=1,capsize=2,label='data')\n",
    "\n",
    "if fit_line:\n",
    "    plt.plot(x_fit,y_fit,'-',color='blue',linewidth=1, label=\"linear fit\")\n",
    "    \n",
    "#plt.xlim(0,2.5)\n",
    "#plt.ylim(0,25)\n",
    "plt.xlabel('X-Axis Label (units)',fontsize=14)\n",
    "plt.ylabel('Y-Axis Label (units)',fontsize=14)\n",
    "plt.title(\"This is a title\",fontsize=16,loc=\"center\")\n",
    "#plt.minorticks_on()\n",
    "#plt.text(7.5,95,\"Here is some text on the graph\",color='red',fontsize=10,weight=\"normal\",fontstyle=\"italic\")\n",
    "plt.xticks(fontsize=12)\n",
    "plt.yticks(fontsize=12)\n",
    "plt.legend()\n",
    "#plt.grid(True)\n",
    "\n",
    "if save_graph:\n",
    "    plt.savefig(fig_file,dpi=500)\n",
    "\n",
    "plt.show()\n",
    "\n",
    "if fit_line:\n",
    "    print(\"\\nFit Results:\\n\")\n",
    "    print(\"Gradient:\",grad,\"+/-\",grad_error)\n",
    "    print(\"Intercept:\",inter,\"+/-\",inter_error)"
   ]
  },
  {
   "cell_type": "code",
   "execution_count": null,
   "metadata": {},
   "outputs": [],
   "source": []
  },
  {
   "cell_type": "code",
   "execution_count": null,
   "metadata": {},
   "outputs": [],
   "source": []
  },
  {
   "cell_type": "code",
   "execution_count": null,
   "metadata": {},
   "outputs": [],
   "source": []
  }
 ],
 "metadata": {
  "kernelspec": {
   "display_name": "Python 3",
   "language": "python",
   "name": "python3"
  },
  "language_info": {
   "codemirror_mode": {
    "name": "ipython",
    "version": 3
   },
   "file_extension": ".py",
   "mimetype": "text/x-python",
   "name": "python",
   "nbconvert_exporter": "python",
   "pygments_lexer": "ipython3",
   "version": "3.8.8"
  }
 },
 "nbformat": 4,
 "nbformat_minor": 4
}
